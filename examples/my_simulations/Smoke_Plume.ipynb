{
 "cells": [
  {
   "cell_type": "markdown",
   "metadata": {},
   "source": [
    "# Smoke\n",
    "\n",
    "[![Google Collab Book](https://colab.research.google.com/assets/colab-badge.svg)](https://colab.research.google.com/github/tum-pbs/PhiFlow/blob/develop/examples/grids/Smoke_Plume.ipynb)\n",
    "\n",
    "This example simulates a rising plume of hot smoke. It demonstrates how to advect and couple other quantities with the fluid."
   ]
  },
  {
   "cell_type": "code",
   "metadata": {
    "ExecuteTime": {
     "end_time": "2025-04-04T19:44:35.498375Z",
     "start_time": "2025-04-04T19:44:35.494643Z"
    }
   },
   "source": [
    "from phi.jax.flow import *\n",
    "from tqdm.notebook import trange\n",
    "# from phi.flow import *  # If JAX is not installed. You can use phi.torch or phi.tf as well."
   ],
   "outputs": [],
   "execution_count": 7
  },
  {
   "cell_type": "markdown",
   "metadata": {},
   "source": [
    "We begin by defining our simulation size and smoke inflow."
   ]
  },
  {
   "cell_type": "code",
   "metadata": {
    "ExecuteTime": {
     "end_time": "2025-04-04T19:41:38.691618Z",
     "start_time": "2025-04-04T19:41:38.684847Z"
    }
   },
   "source": [
    "domain = Box(x=100, y=100)\n",
    "inflow = Sphere(x=50, y=9.5, radius=5)\n",
    "inflow_rate = 0.2"
   ],
   "outputs": [],
   "execution_count": 2
  },
  {
   "cell_type": "markdown",
   "metadata": {},
   "source": [
    "Our simulation advects the velocity and smoke fields, computes the buoyancy force proportional to the smoke density, and enforces incompressibility.\n",
    "We sample the velocities on a $64\\times 64$ staggered grid, and the smoke density on a $200\\times 200$ grid."
   ]
  },
  {
   "cell_type": "code",
   "metadata": {
    "ExecuteTime": {
     "end_time": "2025-04-04T19:41:40.350171Z",
     "start_time": "2025-04-04T19:41:40.298070Z"
    }
   },
   "source": [
    "@jit_compile\n",
    "def step(v, s, p, dt):\n",
    "    s = advect.mac_cormack(s, v, dt) + inflow_rate * resample(inflow, to=s, soft=True)\n",
    "    buoyancy = resample(s * (0, 0.1), to=v)\n",
    "    v = advect.semi_lagrangian(v, v, dt) + buoyancy * dt\n",
    "    v, p = fluid.make_incompressible(v, (), Solve('CG', 1e-3, x0=p))\n",
    "    return v, s, p\n",
    "\n",
    "v0 = StaggeredGrid(0, 0, domain, x=64, y=64)\n",
    "smoke0 = CenteredGrid(0, ZERO_GRADIENT, domain, x=200, y=200)"
   ],
   "outputs": [],
   "execution_count": 3
  },
  {
   "cell_type": "code",
   "metadata": {
    "ExecuteTime": {
     "end_time": "2025-04-04T19:41:45.513555Z",
     "start_time": "2025-04-04T19:41:41.819700Z"
    }
   },
   "source": "v_trj, s_trj, p_trj = iterate(step, batch(time=10), v0, smoke0, None, dt=.5, range=trange, substeps=3)",
   "outputs": [
    {
     "data": {
      "text/plain": [
       "  0%|          | 0/10 [00:00<?, ?it/s]"
      ],
      "application/vnd.jupyter.widget-view+json": {
       "version_major": 2,
       "version_minor": 0,
       "model_id": "e7bbd801abdf4b8a8ad73459f6b1af96"
      }
     },
     "metadata": {},
     "output_type": "display_data"
    }
   ],
   "execution_count": 4
  },
  {
   "metadata": {
    "ExecuteTime": {
     "end_time": "2025-04-04T19:42:46.921144Z",
     "start_time": "2025-04-04T19:42:46.907335Z"
    }
   },
   "cell_type": "code",
   "source": "s_trj.shape",
   "outputs": [
    {
     "data": {
      "text/plain": [
       "(timeᵇ=11, xˢ=200, yˢ=200)"
      ]
     },
     "execution_count": 6,
     "metadata": {},
     "output_type": "execute_result"
    }
   ],
   "execution_count": 6
  },
  {
   "cell_type": "code",
   "metadata": {
    "ExecuteTime": {
     "end_time": "2025-04-04T19:41:58.542823Z",
     "start_time": "2025-04-04T19:41:46.814059Z"
    }
   },
   "source": [
    "plot(s_trj, animate='time', frame_time=80)"
   ],
   "outputs": [
    {
     "data": {
      "text/plain": [
       "<matplotlib.animation.FuncAnimation at 0x301ccc5b0>"
      ],
      "text/html": [
       "<video width=\"1200\" height=\"500\" controls autoplay loop>\n",
       "  <source type=\"video/mp4\" src=\"data:video/mp4;base64,AAAAIGZ0eXBNNFYgAAACAE00ViBpc29taXNvMmF2YzEAAAAIZnJlZQAAGnFtZGF0AAACrwYF//+r\n",
       "3EXpvebZSLeWLNgg2SPu73gyNjQgLSBjb3JlIDE2NCByMzEwOCAzMWUxOWY5IC0gSC4yNjQvTVBF\n",
       "Ry00IEFWQyBjb2RlYyAtIENvcHlsZWZ0IDIwMDMtMjAyMyAtIGh0dHA6Ly93d3cudmlkZW9sYW4u\n",
       "b3JnL3gyNjQuaHRtbCAtIG9wdGlvbnM6IGNhYmFjPTEgcmVmPTMgZGVibG9jaz0xOjA6MCBhbmFs\n",
       "eXNlPTB4MzoweDExMyBtZT1oZXggc3VibWU9NyBwc3k9MSBwc3lfcmQ9MS4wMDowLjAwIG1peGVk\n",
       "X3JlZj0xIG1lX3JhbmdlPTE2IGNocm9tYV9tZT0xIHRyZWxsaXM9MSA4eDhkY3Q9MSBjcW09MCBk\n",
       "ZWFkem9uZT0yMSwxMSBmYXN0X3Bza2lwPTEgY2hyb21hX3FwX29mZnNldD0tMiB0aHJlYWRzPTEy\n",
       "IGxvb2thaGVhZF90aHJlYWRzPTIgc2xpY2VkX3RocmVhZHM9MCBucj0wIGRlY2ltYXRlPTEgaW50\n",
       "ZXJsYWNlZD0wIGJsdXJheV9jb21wYXQ9MCBjb25zdHJhaW5lZF9pbnRyYT0wIGJmcmFtZXM9MyBi\n",
       "X3B5cmFtaWQ9MiBiX2FkYXB0PTEgYl9iaWFzPTAgZGlyZWN0PTEgd2VpZ2h0Yj0xIG9wZW5fZ29w\n",
       "PTAgd2VpZ2h0cD0yIGtleWludD0yNTAga2V5aW50X21pbj0xMiBzY2VuZWN1dD00MCBpbnRyYV9y\n",
       "ZWZyZXNoPTAgcmNfbG9va2FoZWFkPTQwIHJjPWNyZiBtYnRyZWU9MSBjcmY9MjMuMCBxY29tcD0w\n",
       "LjYwIHFwbWluPTAgcXBtYXg9NjkgcXBzdGVwPTQgaXBfcmF0aW89MS40MCBhcT0xOjEuMDAAgAAA\n",
       "EABliIQAEP/+94G/MstfIrrJcfnnfSyszzzkPHJdia640AAAAwAAAwAAAwAAB3SzRMGpB4Z0dFAA\n",
       "AAMAAE7cP/8RPEZgCMPiE/k9IM6CK6faMeK1ScFrGVxdWtz+gF3U7g52KUW5psxy/w/DEuJB10kE\n",
       "C2dSBA0hbXwNiS3WgJKjRusuPXJm/ArKW+FgIj0wqXZ2Z29g6WNCqvrCFGmMSYnkATVQeKVxv+w1\n",
       "Jq524lVsyrJrH1H1OCdHhIdWNpMbCiK9otdeSN/8EosBL67cgU2vkjEw9jDxTbdi1NELvUgldGwy\n",
       "ZDWDlgpfs8VExHrF04La+TCYqZdSQK+epwo3T/61Tyqz4tGNImnElhyl9+v99pPnDe1IjEfj09GF\n",
       "IiXHxZbXbXT/KUeYFzGcXdDxyCondNfpclXiHrfBST/6rtmvYyR1uPF+4QUjGQekcEYfvgLZ5E4E\n",
       "k/m9vBO/x44vGhiXnSaBT7MFKGaBbDF2tNrKjA6F7+GgA/POsn91RD/Hvv/xeZyzOQcEe+Z4FxJK\n",
       "3CSvrGgfK+T5yLqNrl6Q429kS7gg2vU5FZi4raUHnsXIcDFyMZkhnCDJM2NeyLL//EwNHaY5lYRY\n",
       "PCCwb3SYUqgXkYzOc4CsifK4Bi/cQpZJ7JJz81izMZ5z0UKIbA/aKROa8FtOys6YHOajB0AeXbxq\n",
       "QgHPUuc+pWu4vhNC4o/EyPM1SNhPs/a8ImIOcWEh1rmj1U0/EKicACAxTn7pwcEV0dm3vZfZiQku\n",
       "U+4bBF+b/sv9rs++pQX8Qbz/AnThLO6ngek/jjFSWBFRWhqsYtx07lcW4RqllksygWzTOUHC2rAH\n",
       "DHVrA/f6HVnOyzb0IKSPnrC7dw8r9lYcDqV+kOjR1CyqLSlUQRs2dchucEYyXspqQNM6kk7Av7NU\n",
       "0rWfN/2yz/TCEn4N0VMTTaKVMKfhY7MJ0GC5v2j2URQFqY9eK788AeKmxzIH76CLmIoYZdGvOFfu\n",
       "0lDf6sWJ5PxSJ4bfzwtKlHzprcNSanuJQlFZ8vJbK59p201hmMUqjg9xBneMVRY/1u/PkQvRy+Lp\n",
       "hmzSRivnB/ctGkIH765kDCPO2LJu7b1YG3L8gAABNrwLA1d0oin16NTbbCGi4cOSNJtC8lBmj9Pq\n",
       "/JnYBUtt3wFqNtEAABhnq8UNqdzKx1vrM3xXpuob6gI+fX0KyvwLYApYnS2h/wv8srFYgrX5qrFZ\n",
       "mXYXMf3ryc3LBCkhXLEGbAYyAsDBZXe8w3H7f8RsW50e9MWp6e+0U55ey/wsw/d7C1OwZjZetmnN\n",
       "hAUgPxbg/uVCdzRzZzhCOBGLMP6cnFSuG4klZDp2Fy0hd6iwK3Jc6/1vCXIvXVRw98pSU402sLuz\n",
       "8saQFkWeis7UgMAo9GIGBUFhOegeuM0D9Z+UdtWpx7kuajYputwUHZW9DjccFv6G88g3PKQvQAGl\n",
       "m5GuCPCKn7AUzgiyJP8HsWQ7/CHlal3YcHj+3fAR2p2TdBPeNdtCw0wB2ZP2chy1jwqGA9yj/Zvb\n",
       "cfEiWNstCXAzrTh49skRm2rXZk+0JGag5ZnLclvSWJCdq4swMhxrjdh/jgcwSYfK7ZdMmJpcT9sj\n",
       "Br6qfUkdH4KKzqea2n3gzsJzgTYhQAABxEnGFteXqaprwvFajceRQDEmuzDf/69fZp075kgNTDan\n",
       "1lrACmZ+AHoIRVxCH/L53gnUl32HAxPEcjLV/8F9Vusz1JyPrlik6bRcCyYMfl1q2ILcCQFBU3Lg\n",
       "vZmItXK/aXHwFZOiamxVObhO5/j0wXSuRsdfU8EOWEO6pW0Wj8ioTS1RsoivM4cWNxbcfwNwzCKu\n",
       "e2QujYUkeWlSC4EYxYx4JYcxpFPzAAUsb6chDN+ppoEBqJY5nlsnrlPHQ6Rs4brWWnxUFAZAgVDf\n",
       "iUKjG30Qzr9kG6EUDde9pFjJHoYON3IyaqnOSpL1UplW6ymi87XNB1NBuL2aBgGw6XMCFLEdpb2b\n",
       "i/vBVFDc5Yb/yjz5hS7q4stmqvyToYR+4JtcVkbQITx0OsyfPsyJrc9lUuhZlpOrR5m0Dzp39cH0\n",
       "yW71cYuDZyZQvp5eMS4IBccaMLlzoPrq/zFHP/b+F5Vp8ftU2CINVkOT//md0AHHxbflQTnVb/Fw\n",
       "zrg70bSlB62AbqOTDTZIUaEfrqCQe38sj4hElRzl4wgEGoarMs8npi/SpzvxcaGjjr9l31MnjDw1\n",
       "oLOLWfPOCGqKdvQ2wRBarc+L/WUPCxJR4crw3styyADUNX5G8uidn8iJeAAErnZt6t2Kl8iZZVql\n",
       "zOMCBTcyGx+ZkoMrcRAtYmWrcdKRBeeuUa3AmT8C7LCRCqG0YdP9CpKkm9qHMbGI8Z0t5Cbe3Bxm\n",
       "WKvbZjuSXXDKeq0DVGme96oRsXdFmnRdwQyAoFJLlhsc95pvRgKMKOU1IGTrgTPEkXKwJGsaTWYe\n",
       "bdx74rzBtUpBwewbH7wLeBCVMphlewYY7ZVpKWCicTSEFyMFV6UyYwzIZO45Fcfzij5ykeWrrsqW\n",
       "CgIkql/niQcGVTDQhxiIfNk78fWcWSit27uxZBT+DLRNrMNjb8D17jyzcjIGWZeq57I9wj6Ae5lj\n",
       "oBmkw4PXeg89o6KyaxjmOJnO5v9hyhPYvFcRFHQumJLT+ymN5gmHdD2FXA+BlgX4OXFD+CeMY9Ob\n",
       "i4JnH2unRoqMNXugrgIAlzcXgytk9GHJYjNNy5lxsh14ZxNb8a+QpLh8xsto1glqggZdP9CrwiX3\n",
       "6CC003MOrmFM7miN+tQFUZkc91bLcLcQ8JBs4ewlEYrzJ/aT1vqMjL+jdiErQCGGmB/ESLl9yPPH\n",
       "NcZ++EzIAAP7I05vaG8hva0pNoF60wLViTl9bn+GmyX7VG+05cT7nnQH6nN5EqD7oP7kl7F1RX8q\n",
       "tfNyADS56QKJztAY7n1Bg0ARVBgJ1JrYdxo0t3lK5tHYq0VvZHcQhhOPTggM4B+8bqx/YegVnBDC\n",
       "4voc86ecyGnAJVZPox2ief8DWAfuu05lf5L3o2s1Nco3rRxMdxWWpvv+WP7OGfJTEsPNcUDVOYUr\n",
       "qIwVrlFgHMV0T14WUgPOczE6BNbIwCAcR1pcH2Qoe8nyDB2jIrOeHO1kmD/teI8FmJBGwBKTM0UG\n",
       "glKw2YSz9+Qs9UVDmYOCsGkLHeexJPAPGHNVyaW09U7VL1/BnqpldUbZxKx0KGjvRzAiFaXrnQW3\n",
       "RrBfa7cvI5OIHUQd1BzJ8fqtm5Zvg9Y+oxomIABhxNqkev1xWak0HVhvxXnyzfVqXQOeDvv1+A83\n",
       "otQhHVbfssbM7yka2WdRuudhhNBZ4mv2FrkTKrjTH6RYMtJUhoJ2BIrafExHROYC3Zy4aI/MaAsH\n",
       "apiMwFEQftVnJVLcKLAqcSTfSdn1hYUwESYe6crw4/74LmkzebPUOc7RjTqi0Oy2jry7lUAAeXzt\n",
       "Hh5Jv3JJXCVYOL4zEhhff99qtSiL/WknP9RouAQlAWQz/1GzvI0EpuyOAvt0zbn7PpGCvel9d6OA\n",
       "TNmRULN7VWJRB+B1sHf7ZvD+X4RbPnTgWDwZCunAuIQEl2gPz/fZtac3erECNnSSQCWIKy3/vANU\n",
       "62pvd4nbCBaWMQ5vR8wgiE9wydJ/4wRTI+lTODeX3RbKmMILhydswhCrKZ0oEhslgRbfCx68zYlj\n",
       "fcjMM4gzAuxcAxoHKBWMAAB2GH4+ThW2F9WttU5bQ21mtjfAD2R7N/Z3UeunsHrZu4LfXJWhsJvp\n",
       "kg6k5ECCj0Vc7WTPHM8buLlj8S8ZYc2ZAM4cBE8s31mPZXTBF8AAHoXtwIb1JrTDFQ9c40Fww4vs\n",
       "awJxHwwiuAY5YdVh8TXef7DfUjRd+gGAd+2EO10FOtRgOYZgD3yHin8tX6YLayPE2U/yiTPnwytj\n",
       "oeJQJJgpSJQNTJTzVEZfmK4GIrjkS2R3Etyq9C77fafIjuy9K8QKnL4sEmHAriG+6k2TIK3pFx5n\n",
       "LKugFCCKTX00uhG7MtX01FGrF6VG7cCU1nVdMpGz2I4z6QT9pAtDzmkmUPCnFAL1wwpT34SaNy5Y\n",
       "h4RniGrtgZQvVI5XIRI/EElaO6A8cDuMQ74Ia/3t33FRALQrMpf1qmTIe+7UtX31izQJ/pQ18MUU\n",
       "ylm3VKedI1c8aPFY+m0PBW1ur9rEjf/Tw52OBJUrBsoh2udzRwGW/TKVl1KAmaz+LNYf2DkZk5Sd\n",
       "6jhTq77N19lAuXkvJd//20eQo+LZrcGkrV6MKfaqahYVaBS5CNNO549ESVC9X26PKxZayT6UbZxE\n",
       "uixB03j1acK6b6dJCqSmz+mWMrgP0F1WLa6/CVlChj4m6oJBX372Z/cPgVd++IdjiYrK0PmCzJdl\n",
       "FeM3nYX7rYXaOO35ctNPkfqvZ9npOXh9ETmwGpwzmTC+VYAwZFY0iz7Kr/JPfj3LjdaeawOPyh+e\n",
       "35sqqfmQSXU7q4Ja7QKKYsKkZOeMIyDKfvmTJcCJIoo7jwRD03+BKQTvg2HQqgnD/8N+Jh4v+AAA\n",
       "pTrS0xv1F01+uMPC0ZxHZZM9I7beL6zFiZpR7uQ/UqizYwzLI1QEMX6v8x7B6mkrihBfM9+171k3\n",
       "zRbF3ZY/Kuto0cmtOx3HseCX7jaO600TT7k5NtQdqLE1hX9e+MNuPV/AyISAtsVEGcJ02PxD0ANH\n",
       "sw1eywrNlpWD0r0WEN8kOfM0xumNvoqDPadakWaAEAdFheL8Yt7yTbxM/G6jdzhLzuxySC9fIuXg\n",
       "Zc5qrJvt8K23PCEPNxblBz/gGx8/zpH/rfDyN/cTfw8lzemczzN25QM3Scvktu33UyfJP7mjOcnY\n",
       "nn820476oPO+PtZ1Z7a2txwbISDn64F6T6plRJbyncNfy1DOmq4gEz5u1WmxQhMpfu3M+kSzs8aA\n",
       "St4m7G+HB6osIvWsCDHe5JrfXkdBPM9bGSCqNqb9vUU0LHxNNQE/KtSzDemnnvcKdubl1Me/uWL6\n",
       "O8H9nV7nlAqg05QOskV0srv0eRrPdwzbJ8b+pb6MBBRj+crgLl+2XUdT0mNCCakXAWWgX5b6wB8F\n",
       "9wHhfuVFNoSitl4O6H0A+vn8pevRN/5bXMc3/0PoLAtr4XnxlAotVtGRWtTx2HphYf9e483iBYaO\n",
       "nNkDaKt3KyeRF403Y808OQICrbexh3Nk/4MYEuG17nAWgKQ/Pd0/1URB0KZGSRyV5MZVMKUkvNJ8\n",
       "zOoAe01scSHyH/tjH/5tqh0+U/amGCUKweGEfdqVEqwU+9JjoJs/XOA+90U1bMd7xv35aAr8sPcC\n",
       "zAfag/edLH7/BB/IuhrvNLrXa1kvXpJCLtkdvumATdyQQKcw3mc4woeT4NFSchvpN3d3fjWXJZoC\n",
       "Ba3KqmwCj6GqWBJIhdQjmp2ZuZZjhVSwBjI8IgEEp6gJCML1+71VYkcCFTErsNUlH+3C04R4YQJo\n",
       "VJ9GlBV+s8ymHU++rpsfhz7J8IGJn5W4VsANdkLcJgMKXxM4VsI3ABCRpMAAAAMAABkxAAABekGa\n",
       "JGxD//6plgALuHPoAcIpW+F6hMwUDoq1o52TA51oObOd5Ntw16vo9wMqLUEQ7A2qRIdGs22UFx8f\n",
       "zLoT7o5jckv3YqlBkbc4VnCjdk33f5rU0O4N4aNnyaqvRY9jFdIp+vMe+HQMOg07ZadRPOuxJFEf\n",
       "i6Fyvax9r+IIZqXQzmuJXudZAjBYf8u0CCBOuar0kxVNdwxyqwrRmRznLpPKr01ppH07eZP6zMEA\n",
       "61Jv4EFh6RV086ka/g44qtMneg4SoJlxvA/yODPAFjs02b8zu6vwZjrqX9PbFO5J1gTr8CdQBZdL\n",
       "tq5fK/4JUN41/ZOqzMHrVKVRgW4x+c8rnc3FgNKLz/yR00gyv5q61upkLXHTybi57lV41Y1WH7LS\n",
       "IL1OHBMWVuf0WfT428xQIN36woxCDtaRmAHPZNQwI0NfjM4LHjefvxriVwzlvrrf/Uzcxh8JQo8e\n",
       "qs3UV3+eOV+u2k2Qs5ns8Dp0IpKy4dezNhv4tEM0BVtV0QAAAKpBnkJ4hv8ACCxmorD2b6sQu5kn\n",
       "Uned70pDQ4xQqbAD1xriSE8dI6WPeoImuAdsnoYwDlFzdKkkswOQ28wMGn56epnP6TSqodqJ3+zr\n",
       "ZKUHLonOoghHu0PaBszDs8cX57+8UH13Y/wXNYCBP3VHLSzWaTQq4VCOVz+VczyD8fuElVeCL55h\n",
       "t/n3mfa6ASarV8LYSgcSvRA+Bxt6Lj4Wc7QigAoXhx4o697H+QAAAGEBnmF0Qz8ACjnie8BxJYXe\n",
       "E8ezMkLLWHI/88CaB/6UgYP+B5mlc5A74DC8oe551yq7AdD49q3+NEXf/5WXOjBsJ7phsa76x34f\n",
       "JdFufg0P5IoTePoSQgCJaUpPv4aTxFbAAAAASQGeY2pDPwAAfwsD4jbj8ejwIVm3S04kHH772gf9\n",
       "Ycb983LsAF+yb06Vt8xGCnagV8YVUDYvnzPG6ArjZ0/q/HsA4HBoT2HlCpkAAAF9QZpoSahBaJlM\n",
       "CHf//qmWAACU/I7FH/tKILiKwErVo2H1+Vj+wmdfOZVgC+A19Gzsuq51FBlwCcMvQJ1G9i96dGKp\n",
       "Aho0xoDGGhljRYc+GsK0as+z17OwNP1X/vaykeV2ze3HyY+4AdQdDeQ4EPRFd9DkIL50DXPr+OaA\n",
       "rz1SVfnqny/W/tfW54LofG5K4wXzNERlVO4EuTNFYG4QcrFNwUvOEzgiimxDs+OzIIDz7E9zU7K7\n",
       "FHebtUYVyOgGW6vCHWeT6vE0o5RFxl4VJWKFMV/D5sVJory2gIzKu59fg+tqzoukJyLiwZsWT0uj\n",
       "uXJ+FbvDFlcspzEfJ3HOoG6XTec8632sH5W7Pi9EmMu429zBYVAIBIPCba67rLQKfw1MJogoR4uG\n",
       "qgXY6BNMUKMiff6UNFwGY2mOmuMAoUZzX7aZZh6qI03O7/SRALnPuvUPriKnX5gLIx2QWy9Z7XBR\n",
       "pWKU5lnG/bo3sWM59NoChUw5fjIfnYRdR8yIAKuBAAAAw0GehkURLDf/AABpgCuprOqD1zMhyphQ\n",
       "2TfPAAAJsFLFBVYom9g0aAuZNtMEAA2QEOBvTxztQRIpvObY6//BmhjoDgFQDRdcl76IYHrQuECV\n",
       "hKnSBhionOR49YA3xcIZPnLc5OfwSlHXFI2dQPI+mG5LyOJzVDnXCRlBE4XM0GqUR8T1rDpxYxWQ\n",
       "rLyomiiAXL4GHFTufH+3N+v09cX0+cjl6+PW6gt6mrRiGa77Ne57am3tos4YYxSvB0ARL6nUAK8L\n",
       "KQAAAHABnqV0Qz8AAH7yEFH3BQZvyEKqa3mSLtwGRGZQAkjoDTsw0aI7QKAQaNBmuU3J76LeZBjN\n",
       "lQOMlqUwzWvj/ggkzWx/+FqeEFgELJ8/mXOhzCfdhITdVxcf+SCUDb/9MlPEyk3GuoqdzsTQEsHK\n",
       "kUMzAAAAbgGep2pDPwAAAwAGwNc94XSCUiI7JjuggH7ZsxELgejAxSrpiLROrd4AXmDP2VkLkPIb\n",
       "3ShaCnXT36VdV9v/Mc8SgrLEyLmieDkYt3/gpNVp9/GYbXSFogNSw6O6YS4IOTc/JWC6HUB8Qrn5\n",
       "EOaAAAABGkGaqkmoQWyZTBRMM//+nhAAAAMAAAMAAAk2fklpXPZsYAnOkpzPX7PQqYq26mN8frQp\n",
       "TR0TvaDJv4Knk2HBBd1Vtgod+7qj4gSY+X10FlNvM9RYafqsj38LSk8MPsYRyqHoFTbAuWMnANKp\n",
       "UVGWsmdIBy2cqL/tckBNDZot84imgWuBD07ZwDwXHACJ45RBqowGguBvCtjotgd4NEhIEdKLgv/c\n",
       "aiKi2J6QqreguzthZAdOYmpx8mNFY2ASrq3B2KxszEltZFD4rA+thUO4SczzYSy6+FMQ2BFUNbYX\n",
       "1NSWWQ10UNSZJkRJCVZqfhW0ARSTD/Vgq8kYTUtKIgxAfSFfAUlLqx5JzU0fs8Auz/r1vFNb7vNE\n",
       "n2AMWAAAAIQBnslqQz8AAAMABsGHBTB/HFd8YvCBewav7WFAgnduImaEkP5MIASpycm1PGej8pMj\n",
       "90TUDf+UH+fA3rVChaakGhdC50DL8U2U+5fX+hrPU7Jbg7Aic5gKlERfozCsjVyq3PvAVy5VInAd\n",
       "RWI0Wo4AaE9qsmztEe/7fcMgCvVP24emCbkAAAO3bW9vdgAAAGxtdmhkAAAAAAAAAAAAAAAAAAAD\n",
       "6AAAA3AAAQAAAQAAAAAAAAAAAAAAAAEAAAAAAAAAAAAAAAAAAAABAAAAAAAAAAAAAAAAAABAAAAA\n",
       "AAAAAAAAAAAAAAAAAAAAAAAAAAAAAAAAAAAAAgAAAuJ0cmFrAAAAXHRraGQAAAADAAAAAAAAAAAA\n",
       "AAABAAAAAAAAA3AAAAAAAAAAAAAAAAAAAAAAAAEAAAAAAAAAAAAAAAAAAAABAAAAAAAAAAAAAAAA\n",
       "AABAAAAABLAAAAH0AAAAAAAkZWR0cwAAABxlbHN0AAAAAAAAAAEAAANwAAAIAAABAAAAAAJabWRp\n",
       "YQAAACBtZGhkAAAAAAAAAAAAAAAAAAAyAAAALABVxAAAAAAALWhkbHIAAAAAAAAAAHZpZGUAAAAA\n",
       "AAAAAAAAAABWaWRlb0hhbmRsZXIAAAACBW1pbmYAAAAUdm1oZAAAAAEAAAAAAAAAAAAAACRkaW5m\n",
       "AAAAHGRyZWYAAAAAAAAAAQAAAAx1cmwgAAAAAQAAAcVzdGJsAAAAuXN0c2QAAAAAAAAAAQAAAKlh\n",
       "dmMxAAAAAAAAAAEAAAAAAAAAAAAAAAAAAAAABLAB9ABIAAAASAAAAAAAAAABAAAAAAAAAAAAAAAA\n",
       "AAAAAAAAAAAAAAAAAAAAAAAAAAAAGP//AAAAN2F2Y0MBZAAf/+EAGmdkAB+s2UBLBB+eEAAAAwAg\n",
       "AAADAyDxgxlgAQAGaOvjyyLA/fj4AAAAABx1dWlka2hA8l8kT8W6OaUbzwMj8wAAAAAAAAAYc3R0\n",
       "cwAAAAAAAAABAAAACwAABAAAAAAUc3RzcwAAAAAAAAABAAAAAQAAAGhjdHRzAAAAAAAAAAsAAAAB\n",
       "AAAIAAAAAAEAABQAAAAAAQAACAAAAAABAAAAAAAAAAEAAAQAAAAAAQAAFAAAAAABAAAIAAAAAAEA\n",
       "AAAAAAAAAQAABAAAAAABAAAMAAAAAAEAAAQAAAAAHHN0c2MAAAAAAAAAAQAAAAEAAAALAAAAAQAA\n",
       "AEBzdHN6AAAAAAAAAAAAAAALAAAStwAAAX4AAACuAAAAZQAAAE0AAAGBAAAAxwAAAHQAAAByAAAB\n",
       "HgAAAIgAAAAUc3RjbwAAAAAAAAABAAAAMAAAAGF1ZHRhAAAAWW1ldGEAAAAAAAAAIWhkbHIAAAAA\n",
       "AAAAAG1kaXJhcHBsAAAAAAAAAAAAAAAALGlsc3QAAAAkqXRvbwAAABxkYXRhAAAAAQAAAABMYXZm\n",
       "NjEuNy4xMDA=\n",
       "\">\n",
       "  Your browser does not support the video tag.\n",
       "</video>"
      ]
     },
     "execution_count": 5,
     "metadata": {},
     "output_type": "execute_result"
    },
    {
     "data": {
      "text/plain": [
       "<Figure size 640x480 with 0 Axes>"
      ]
     },
     "metadata": {},
     "output_type": "display_data"
    }
   ],
   "execution_count": 5
  }
 ],
 "metadata": {
  "kernelspec": {
   "display_name": "phiflow2",
   "language": "python",
   "name": "python3"
  },
  "language_info": {
   "codemirror_mode": {
    "name": "ipython",
    "version": 3
   },
   "file_extension": ".py",
   "mimetype": "text/x-python",
   "name": "python",
   "nbconvert_exporter": "python",
   "pygments_lexer": "ipython3",
   "version": "3.8.5"
  }
 },
 "nbformat": 4,
 "nbformat_minor": 2
}
